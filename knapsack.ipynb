{
 "cells": [
  {
   "attachments": {},
   "cell_type": "markdown",
   "metadata": {},
   "source": [
    "#  **PROBLEMA DE LA MOCHILA CON GUROBI**\n",
    "\n",
    "GRUPO 1 -> Prashant Jeswani Tejwani y José María Amusquivar Poppe\n",
    "\n",
    "Se ha implementado el problema de la mochila mediante Gurobi. Debido a la licencia, no es posible ejecutar el Notebook aunque más adelante se mostrarán los resultados obtenidos."
   ]
  },
  {
   "cell_type": "markdown",
   "metadata": {},
   "source": [
    "Se leen e imprimen los ficheros del directorio."
   ]
  },
  {
   "cell_type": "code",
   "execution_count": null,
   "metadata": {
    "_cell_guid": "b1076dfc-b9ad-4769-8c92-a6c4dae69d19",
    "_uuid": "8f2839f25d086af736a60e9eeb907d3b93b6e0e5"
   },
   "outputs": [],
   "source": [
    "import pandas as pd # data processing, CSV file I/O (e.g. pd.read_csv)\n",
    "from gurobipy import * # import Gurobi \n",
    "\n",
    "import os\n",
    "for dirname, _, filenames in os.walk('/kaggle/input'):\n",
    "    for filename in filenames:\n",
    "        print(os.path.join(dirname, filename))\n"
   ]
  },
  {
   "cell_type": "markdown",
   "metadata": {},
   "source": [
    "Se implementa el método el cual generará el fichero de salida."
   ]
  },
  {
   "cell_type": "code",
   "execution_count": null,
   "metadata": {},
   "outputs": [],
   "source": [
    "from IPython.display import FileLink\n",
    "\n",
    "def submission_generation(filename, str_output):\n",
    "    os.chdir(r'/kaggle/working')\n",
    "    with open(filename, 'w', newline='') as file:\n",
    "        writer = csv.writer(file)\n",
    "        for item in str_output:\n",
    "            writer.writerow(item)\n",
    "    return  FileLink(filename)"
   ]
  },
  {
   "cell_type": "markdown",
   "metadata": {},
   "source": [
    "Se crea una tupla llamada *Item*, en el cual se almacenará cada elemento de la forma: \n",
    "\n",
    "*Item* -> (índice del elemento, valor del elemento, peso del elemento)"
   ]
  },
  {
   "cell_type": "code",
   "execution_count": null,
   "metadata": {
    "_cell_guid": "79c7e3d0-c299-4dcb-8224-4455121ee9b0",
    "_uuid": "d629ff2d2480ee46fbb7e2d37f6b5fab8052498a",
    "collapsed": true
   },
   "outputs": [],
   "source": [
    "import csv\n",
    "from collections import namedtuple\n",
    "\n",
    "Item = namedtuple(\"Item\", ['index', 'value', 'weight'])"
   ]
  },
  {
   "cell_type": "markdown",
   "metadata": {},
   "source": [
    "Se implementa el método *check_solution*, el cual comprobará si la suma de los pesos de los elementos escogidos son menores que la capacidad de la mochila (sumando 0.5 a los valores ya que a la hora de almacenar los elementos al principio, se restó)."
   ]
  },
  {
   "cell_type": "code",
   "execution_count": null,
   "metadata": {},
   "outputs": [],
   "source": [
    "def check_solution(capacity, items, taken):\n",
    "    weight = 0\n",
    "    value = 0\n",
    "    for item in items:\n",
    "        if taken[item.index] == 1:\n",
    "            weight += item.weight\n",
    "            value += item.value+0.5\n",
    "    if weight > capacity:\n",
    "        print(\"solución incorrecta, se supera la capacidad de la mochila (capacity, weight):\", capacity, weight)\n",
    "        return 0\n",
    "    return int(value)"
   ]
  },
  {
   "cell_type": "markdown",
   "metadata": {},
   "source": [
    "Se crea el vector *taken* con la misma longitud que el vector de los elemento y los vectores *indices*, *valores* y *pesos*. \n",
    "\n",
    "Se crean dos diccionarios llamados *valoresDict* (clave = índice, valor = valor del elemento) y *pesosDict* (clave = índice, valor = peso del elemento) para poder hacer el producto entre la variable de decisión y los valores y pesos usando la herramienta tupledict.prod(), propia de Gurobi.\n",
    "\n",
    "Se crea un modelo inicial (llamado \"*mochila*\"), y se crea la variable de decisión *x1* (binaria) la cual x[*i*] == 1 si se elige el elemento *i*. Se añade la restricción la cual limita que la suma de todos los pesos escogidos no excedan la capacidad máxima de la mochila. Se establece la función objetivo indicando que se maximice la suma de los valores escogidos.\n",
    "\n",
    "Finalmente se escogen los elementos, formando el vector *taken* y se devuele.\n"
   ]
  },
  {
   "cell_type": "code",
   "execution_count": null,
   "metadata": {},
   "outputs": [],
   "source": [
    "def gurobi(sortedItems, capacityI):\n",
    "    taken = [0]*len(sortedItems)\n",
    "\n",
    "    indices = [x[0] for x in sortedItems]\n",
    "    valores = [x[1] for x in sortedItems]\n",
    "    pesos = [x[2] for x in sortedItems]\n",
    "\n",
    "    valoresDict = dict(zip(indices, valores))\n",
    "    pesosDict = dict(zip(indices, pesos))\n",
    "\n",
    "    m = Model(\"mochila\")\n",
    "\n",
    "    x1 = m.addVars(indices, vtype=GRB.BINARY, name=\"x\")\n",
    "    m.addConstr(x1.prod(pesosDict) <= capacityI)\n",
    "    m.setObjective(x1.prod(valoresDict), GRB.MAXIMIZE)\n",
    "    \n",
    "    m.setParam(GRB.Param.PoolSolutions, 2048)\n",
    "    m.setParam(GRB.Param.PoolGap, 0.01)\n",
    "    m.setParam(GRB.Param.PoolSearchMode, 1)\n",
    "    m.setParam(GRB.Param.TimeLimit, 10.0)\n",
    "    #m.setParam(\"MipGapAbs\", 0)\n",
    "    \n",
    "    m.optimize()\n",
    "\n",
    "    for e in indices:\n",
    "        if x1[e].x > 0.9:\n",
    "            taken[e] = 1\n",
    "\n",
    "    return taken"
   ]
  },
  {
   "cell_type": "markdown",
   "metadata": {},
   "source": [
    "Se ordenan los elementos mediante valor/peso de forma ascendente. A continuación, se llama al método *gurobi* en el cual se hará uso de Gurobi para obtener el vector *taken* (vector de unos y ceros, siendo los elementos con valor uno los escogidos). Finalmente, se llama al método *check_solution* para la comprobación de los resultados y la obtención del valor de la mochila para preparar la solución en el formato de salida especificado (en el caso de que la solución no es válida, se abandona el programa). "
   ]
  },
  {
   "cell_type": "code",
   "execution_count": null,
   "metadata": {},
   "outputs": [],
   "source": [
    "def process(sortedItems, capacityI):\n",
    "\n",
    "    sortedItems.sort(key=lambda x: x.value/x.weight)\n",
    "    taken = gurobi(sortedItems, capacityI)\n",
    "    maximo = check_solution(capacityI, sortedItems, taken)\n",
    "\n",
    "    if maximo == 0:\n",
    "        exit(1)\n",
    "\n",
    "    # prepare the solution in the specified output format\n",
    "    output_data = '%.2f' % maximo + ' ' + str(0) + '\\n'\n",
    "    output_data += ' '.join(map(str, taken))\n",
    "\n",
    "    return output_data, maximo"
   ]
  },
  {
   "cell_type": "markdown",
   "metadata": {},
   "source": [
    "Se parsea los datos, almacenando los elementos (en forma de tupla) de la mochila en el vector *items*, eliminando los elementos con valor negativo o con peso mayor que la mochila. \n",
    "\n",
    "Se resta 0.5 a los valores por si existe algún fichero el cual todos los elementos sean de la forma -> valor del elemento = peso del elemento. A continuación, se llama a la función *process* para resolver el problema."
   ]
  },
  {
   "cell_type": "code",
   "execution_count": null,
   "metadata": {},
   "outputs": [],
   "source": [
    "str_output = [[\"Filename\",\"Max_value\"]]\n",
    "for dirname, _, filenames in os.walk('/kaggle/input'):\n",
    "    for filename in filenames:\n",
    "        full_name = dirname+'/'+filename\n",
    "        with open(full_name, 'r') as input_data_file:\n",
    "            input_data = input_data_file.read()\n",
    "            lines = input_data.split('\\n')\n",
    "            \n",
    "            # parse the input\n",
    "            firstLine = lines[0].split()\n",
    "            item_count = int(firstLine[0])\n",
    "            capacity = int(firstLine[1])\n",
    "\n",
    "            items = []\n",
    "            j = 1\n",
    "            for i in range(1, item_count + 1):\n",
    "                line = lines[i]\n",
    "                parts = line.split()\n",
    "                if int(parts[1]) <= capacity and int(parts[0]) > 0:\n",
    "                    items.append(Item(j - 1, int(parts[0])-0.5, int(parts[1])))\n",
    "                    j = j + 1\n",
    "\n",
    "            # call gurobi\n",
    "            output, value = process(items, capacity)\n",
    "            str_output.append([filename,str(value)])"
   ]
  },
  {
   "cell_type": "markdown",
   "metadata": {},
   "source": [
    "Se llama a la función *submission_generation* para que genere el fichero de salida."
   ]
  },
  {
   "cell_type": "code",
   "execution_count": null,
   "metadata": {},
   "outputs": [],
   "source": [
    "submission_generation('Grupo1_Gurobi.csv', str_output)"
   ]
  },
  {
   "cell_type": "markdown",
   "metadata": {},
   "source": [
    "Resultados obtenidos de los ficheros mediante la ejecución del código anterior:"
   ]
  },
  {
   "attachments": {},
   "cell_type": "markdown",
   "metadata": {},
   "source": [
    "Filename,Max_value\n",
    "ks_10000_0,1099893\n",
    "ks_1000_0,109899\n",
    "ks_100_0,99837\n",
    "ks_100_1,1333930\n",
    "ks_100_2,10892\n",
    "ks_106_0,106925262\n",
    "ks_19_0,12248\n",
    "ks_200_0,100236\n",
    "ks_200_1,1103604\n",
    "ks_300_0,1688692\n",
    "ks_30_0,99798\n",
    "ks_400_0,3967180\n",
    "ks_40_0,99924\n",
    "ks_45_0,23974\n",
    "ks_4_0,19\n",
    "ks_500_0,54939\n",
    "ks_50_0,142156\n",
    "ks_50_1,5345\n",
    "ks_60_0,99837\n",
    "ks_82_0,104723596"
   ]
  }
 ],
 "metadata": {
  "kernelspec": {
   "display_name": "Python 3",
   "language": "python",
   "name": "python3"
  },
  "language_info": {
   "codemirror_mode": {
    "name": "ipython",
    "version": 3
   },
   "file_extension": ".py",
   "mimetype": "text/x-python",
   "name": "python",
   "nbconvert_exporter": "python",
   "pygments_lexer": "ipython3",
   "version": "3.6.10"
  }
 },
 "nbformat": 4,
 "nbformat_minor": 4
}
